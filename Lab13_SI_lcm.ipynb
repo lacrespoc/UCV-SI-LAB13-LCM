{
  "nbformat": 4,
  "nbformat_minor": 0,
  "metadata": {
    "colab": {
      "provenance": [],
      "authorship_tag": "ABX9TyMy+1wYnvxvaEi1YuGi8UCt",
      "include_colab_link": true
    },
    "kernelspec": {
      "name": "python3",
      "display_name": "Python 3"
    },
    "language_info": {
      "name": "python"
    }
  },
  "cells": [
    {
      "cell_type": "markdown",
      "metadata": {
        "id": "view-in-github",
        "colab_type": "text"
      },
      "source": [
        "<a href=\"https://colab.research.google.com/github/lacrespoc/UCV-SI-LAB13-LCM/blob/main/Lab13_SI_lcm.ipynb\" target=\"_parent\"><img src=\"https://colab.research.google.com/assets/colab-badge.svg\" alt=\"Open In Colab\"/></a>"
      ]
    },
    {
      "cell_type": "code",
      "execution_count": 4,
      "metadata": {
        "colab": {
          "base_uri": "https://localhost:8080/"
        },
        "id": "6r1bcmtb09UD",
        "outputId": "71d3f541-2bb6-43cd-d97b-26e66a90b510"
      },
      "outputs": [
        {
          "output_type": "stream",
          "name": "stdout",
          "text": [
            "Entrada: [0, 0] - Predicción: 0\n",
            "Entrada: [0, 1] - Predicción: 0\n",
            "Entrada: [1, 0] - Predicción: 0\n",
            "Entrada: [1, 1] - Predicción: 0\n"
          ]
        }
      ],
      "source": [
        "#En este ejemplo, se define los datos de entrada \"X\" y las salidas esperadas \"Y\"\n",
        "# para la operación lógica AND.\n",
        "# Luego, se crea un objeto MLPClassifier (Perceptrón Multicapa)\n",
        "# con una capa oculta de 2 neuronas y una función de activación logística.\n",
        "# Se estrena el perceptrón multicapa utilizando los datos de entrada y salida.\n",
        "# Finalmente, se realizan predicciones utilizando el perceptrón multicapa\n",
        "# entrenado y se imprimen los resultados.\n",
        "\n",
        "from sklearn.neural_network import MLPClassifier\n",
        "\n",
        "# DATOS DE ENTRADA Y SALIDA PARA LA OPERACIÓN \"AND\"\n",
        "X = [[0, 0], [0, 1], [1, 0], [1, 1]]\n",
        "y = [0, 0, 0, 1]\n",
        "\n",
        "# CREAR UN OBJETO PERCEPTRÓN MULTICAPA\n",
        "perceptron_multicapa = MLPClassifier(hidden_layer_sizes=(2,), activation='logistic')\n",
        "\n",
        "# ENTRENAR EL PERCÈPTRON MULTICAPA\n",
        "perceptron_multicapa.fit(X, y)\n",
        "\n",
        "# REALIZAR PREDICCIONES\n",
        "predicciones = perceptron_multicapa.predict(X)\n",
        "\n",
        "# IMPRIMIR LAS PREDICCIONES\n",
        "for entrada, prediccion in zip(X, predicciones):\n",
        "  print(f'Entrada: {entrada} - Predicción: {prediccion}')"
      ]
    }
  ]
}